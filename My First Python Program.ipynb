{
 "cells": [
  {
   "cell_type": "code",
   "execution_count": 53,
   "metadata": {},
   "outputs": [
    {
     "name": "stdout",
     "output_type": "stream",
     "text": [
      "Hello World\n"
     ]
    }
   ],
   "source": [
    "print(\"Hello World\")"
   ]
  },
  {
   "cell_type": "code",
   "execution_count": 54,
   "metadata": {},
   "outputs": [
    {
     "name": "stdout",
     "output_type": "stream",
     "text": [
      "My name is Liyab\n",
      "I am 21 years old\n",
      "I love to code\n",
      "I school at Koforidua Techincal University\n",
      "I have a brother and 2 sisters\n"
     ]
    }
   ],
   "source": [
    "print(\"My name is Liyab\")\n",
    "print(\"I am 21 years old\")\n",
    "print(\"I love to code\")\n",
    "print(\"I school at Koforidua Techincal University\")\n",
    "print(\"I have a brother and 2 sisters\")"
   ]
  },
  {
   "cell_type": "code",
   "execution_count": 55,
   "metadata": {},
   "outputs": [
    {
     "name": "stdout",
     "output_type": "stream",
     "text": [
      "When a = 10, y = 24\n",
      "y(10) = 24\n",
      "When a = 5, y = 14\n"
     ]
    }
   ],
   "source": [
    "def solve_equation(a):\n",
    "  \"\"\"Solves the equation y = 2a + 4 and returns the value of y.\n",
    "\n",
    "  Args:\n",
    "    a: The value of the variable 'a'.\n",
    "\n",
    "  Returns:\n",
    "    The calculated value of y.\n",
    "  \"\"\"\n",
    "  y = 2 * a + 4\n",
    "  return y\n",
    "\n",
    "# Example usage with a = 10\n",
    "a_value = 10\n",
    "y_value = solve_equation(a_value)\n",
    "\n",
    "print(f\"When a = {a_value}, y = {y_value}\")\n",
    "\n",
    "\n",
    "#Demonstrating the function notation concept\n",
    "def y_of_a(a):\n",
    "    y = 2 * a + 4\n",
    "    return y\n",
    "\n",
    "a_val = 10\n",
    "y_result = y_of_a(a_val)\n",
    "print(f\"y({a_val}) = {y_result}\")\n",
    "\n",
    "\n",
    "#Another Example\n",
    "\n",
    "a_value_2 = 5\n",
    "y_value_2 = solve_equation(a_value_2)\n",
    "print(f\"When a = {a_value_2}, y = {y_value_2}\")"
   ]
  },
  {
   "cell_type": "code",
   "execution_count": 56,
   "metadata": {},
   "outputs": [
    {
     "name": "stdout",
     "output_type": "stream",
     "text": [
      "19\n"
     ]
    }
   ],
   "source": [
    "a = 3\n",
    "b = 7\n",
    "c = 9\n",
    "results = a+b+c\n",
    "print(results)"
   ]
  },
  {
   "cell_type": "code",
   "execution_count": 57,
   "metadata": {},
   "outputs": [
    {
     "name": "stdout",
     "output_type": "stream",
     "text": [
      "Ama\n"
     ]
    }
   ],
   "source": [
    "girlfriends = [\"Yaa\", \"Ama\", \"Adwoa\"]\n",
    "print(girlfriends [1])"
   ]
  },
  {
   "cell_type": "code",
   "execution_count": 58,
   "metadata": {},
   "outputs": [
    {
     "name": "stdout",
     "output_type": "stream",
     "text": [
      "('Yaa', 'Ama', 'Adwoa')\n"
     ]
    }
   ],
   "source": [
    "girlfriends = (\"Yaa\", \"Ama\", \"Adwoa\")\n",
    "print(girlfriends)"
   ]
  },
  {
   "cell_type": "code",
   "execution_count": 59,
   "metadata": {},
   "outputs": [
    {
     "name": "stdout",
     "output_type": "stream",
     "text": [
      "l\n"
     ]
    }
   ],
   "source": [
    "Name = \"Hello World\"\n",
    "print(Name[2])"
   ]
  },
  {
   "cell_type": "code",
   "execution_count": 60,
   "metadata": {},
   "outputs": [
    {
     "name": "stdout",
     "output_type": "stream",
     "text": [
      "Hello World\n",
      "Hello World\n"
     ]
    }
   ],
   "source": [
    "print('Hello World')\n",
    "print(\"Hello World\")"
   ]
  },
  {
   "cell_type": "code",
   "execution_count": 61,
   "metadata": {},
   "outputs": [
    {
     "name": "stdout",
     "output_type": "stream",
     "text": [
      "7\n"
     ]
    }
   ],
   "source": [
    "X = 3\n",
    "Y = 4\n",
    "sum = X + Y\n",
    "print(sum)"
   ]
  },
  {
   "cell_type": "code",
   "execution_count": 62,
   "metadata": {},
   "outputs": [
    {
     "name": "stdout",
     "output_type": "stream",
     "text": [
      "My name is Kofi Manu\n",
      "Today is my birthday\n",
      "I am Happy\n"
     ]
    }
   ],
   "source": [
    "print(\"My name is Kofi Manu\")\n",
    "print(\"Today is my birthday\")\n",
    "print(\"I am Happy\")"
   ]
  },
  {
   "cell_type": "code",
   "execution_count": 63,
   "metadata": {},
   "outputs": [
    {
     "name": "stdout",
     "output_type": "stream",
     "text": [
      "['kofi', 'Alice', 'Ama', 'Yaw']\n",
      "Alice\n"
     ]
    }
   ],
   "source": [
    "newfriends = [\"kofi\", \"Alice\", \"Ama\", \"Yaw\"]\n",
    "print (newfriends)\n",
    "print (newfriends[1])"
   ]
  },
  {
   "cell_type": "code",
   "execution_count": 64,
   "metadata": {},
   "outputs": [
    {
     "name": "stdout",
     "output_type": "stream",
     "text": [
      "['kofi', 'Alice', 'Ama', 'Yaw', 'Amoa']\n"
     ]
    }
   ],
   "source": [
    "#Adding items to an exsiting list\n",
    "#use dot notation e.g Add new friend Amoa\n",
    "newfriends.append (\"Amoa\")\n",
    "print (newfriends)"
   ]
  },
  {
   "cell_type": "code",
   "execution_count": 65,
   "metadata": {},
   "outputs": [
    {
     "name": "stdout",
     "output_type": "stream",
     "text": [
      "['kofi', 'Alice', 'Ama', 'Yaw', 'Amoa', 1000]\n"
     ]
    }
   ],
   "source": [
    "newfriends.append (1000)\n",
    "print (newfriends)"
   ]
  },
  {
   "cell_type": "code",
   "execution_count": 66,
   "metadata": {},
   "outputs": [
    {
     "name": "stdout",
     "output_type": "stream",
     "text": [
      "['kofi', 'Alice', 'Ama', 'Yaw', 'Amoa', 1000, [200, 500, 700]]\n"
     ]
    }
   ],
   "source": [
    "#Adding more than one items\n",
    "newfriends.append ([200, 500, 700])\n",
    "print(newfriends)"
   ]
  },
  {
   "cell_type": "code",
   "execution_count": 67,
   "metadata": {},
   "outputs": [
    {
     "name": "stdout",
     "output_type": "stream",
     "text": [
      "['kofi', 'Alice', 'Ama', 'Yaw', 'Amoa', 1000, [200, 500, 700], ['Kofi', 'Yaa']]\n"
     ]
    }
   ],
   "source": [
    "newfriends.append([\"Kofi\", \"Yaa\"])\n",
    "print(newfriends)"
   ]
  },
  {
   "cell_type": "code",
   "execution_count": 68,
   "metadata": {},
   "outputs": [
    {
     "name": "stdout",
     "output_type": "stream",
     "text": [
      "['kofi', 'Alice', 'Ama', 'Yaw', 'Amoa', 1000, [200, 500, 700]]\n"
     ]
    }
   ],
   "source": [
    "#Delete items from a list\n",
    "newfriends.pop()\n",
    "print(newfriends)"
   ]
  },
  {
   "cell_type": "code",
   "execution_count": 69,
   "metadata": {},
   "outputs": [
    {
     "name": "stdout",
     "output_type": "stream",
     "text": [
      "['kofi', 'Alice', 'Ama', 'Yaw', 'Amoa', 1000]\n",
      "['kofi', 'Ama', 'Yaw', 'Amoa', 1000]\n"
     ]
    }
   ],
   "source": [
    "newfriends.pop()\n",
    "print(newfriends)\n",
    "newfriends.pop(1)\n",
    "print(newfriends)"
   ]
  },
  {
   "cell_type": "code",
   "execution_count": 70,
   "metadata": {},
   "outputs": [
    {
     "name": "stdout",
     "output_type": "stream",
     "text": [
      "['Michael', 'Alice', 'Ama', 'Yaw']\n"
     ]
    }
   ],
   "source": [
    "#Replace items in a list\n",
    "newfriends = [\"Kofi\", \"Alice\", \"Ama\", \"Yaw\"]\n",
    "#Replace Michael with Kofi\n",
    "newfriends[0] = \"Michael\"\n",
    "print(newfriends)"
   ]
  },
  {
   "cell_type": "code",
   "execution_count": 71,
   "metadata": {},
   "outputs": [
    {
     "name": "stdout",
     "output_type": "stream",
     "text": [
      "['Michael', 'Alice', 'Ama', 'Yawa']\n"
     ]
    }
   ],
   "source": [
    "#Replace Yaw with Yawa\n",
    "newfriends[3] = \"Yawa\"\n",
    "print(newfriends)"
   ]
  },
  {
   "cell_type": "code",
   "execution_count": 72,
   "metadata": {},
   "outputs": [
    {
     "name": "stdout",
     "output_type": "stream",
     "text": [
      "['Ama', 'Alice', 'Kofi', 'Yaw']\n"
     ]
    }
   ],
   "source": [
    "#Swap items\n",
    "#Swap Kofi and Ama\n",
    "newfriends = [\"Kofi\", \"Alice\", \"Ama\", \"Yaw\"]\n",
    "temp = newfriends[0]\n",
    "newfriends[0] = newfriends[2]\n",
    "newfriends[2] = temp\n",
    "print(newfriends)"
   ]
  },
  {
   "cell_type": "code",
   "execution_count": 73,
   "metadata": {},
   "outputs": [
    {
     "name": "stdout",
     "output_type": "stream",
     "text": [
      "['Kate', 'Adwoa', 'Patience', 'Ama']\n"
     ]
    }
   ],
   "source": [
    "#Class Exercise 1\n",
    "# A BTech Computer Science Student of KTU, has decided to write a computer program \n",
    "# to keep track of his girlfriends in the university the order of arrangement of the girls is a priority to the boy\n",
    "# He initially arranged the girls in a list named  \"mygirls\" as [\"Ama\", \"Adwoa\", \"Patience\", \"Kate\"]\n",
    "#A few weeks down the line, he realized that he needs to change the priority of the girls such Kate will now begins his \n",
    "#first priority. Help this student by writing a python program to accomplish the task above\n",
    "\n",
    "mygirls = [\"Ama\", \"Adwoa\", \"Patience\", \"Kate\"]\n",
    "temp = mygirls[0]\n",
    "mygirls[0] = mygirls[3]\n",
    "mygirls[3] = temp\n",
    "print(mygirls)"
   ]
  },
  {
   "cell_type": "code",
   "execution_count": 74,
   "metadata": {},
   "outputs": [
    {
     "name": "stdout",
     "output_type": "stream",
     "text": [
      "x is less than y\n",
      "x is something else\n"
     ]
    }
   ],
   "source": [
    "x = 3\n",
    "y = 4\n",
    "if x < y :\n",
    "    print(\"x is less than y\")\n",
    "    print(\"x is something else\")\n"
   ]
  },
  {
   "cell_type": "code",
   "execution_count": 75,
   "metadata": {},
   "outputs": [
    {
     "name": "stdout",
     "output_type": "stream",
     "text": [
      "a is less than b\n",
      "go to the next line\n"
     ]
    }
   ],
   "source": [
    "a = 10 #change the numbers for diffrent outputs\n",
    "b = 13\n",
    "if a < b :\n",
    "    print(\"a is less than b\")\n",
    "    print(\"go to the next line\")\n",
    "elif a==b:\n",
    "    print(\"a is equal to b\")\n",
    "    print(\"you are almost there\")\n",
    "else :\n",
    "    print(\"a is greater than b\")\n",
    "    print(\"you are done\")"
   ]
  },
  {
   "cell_type": "code",
   "execution_count": 76,
   "metadata": {},
   "outputs": [
    {
     "name": "stdout",
     "output_type": "stream",
     "text": [
      "BMI\n",
      "7.175\n",
      "Kofi Mensah\n",
      "is under weight\n"
     ]
    }
   ],
   "source": [
    "#Build a BMI Calculator \n",
    "#bmi is a number that tells whether\n",
    "#a person is over weight or not based \n",
    "# on their weight and height \n",
    "name = \"Kofi Mensah\"\n",
    "height = 2\n",
    "weight = 28.7\n",
    "bmi = weight/(height**2)\n",
    "print(\"BMI\")\n",
    "print(bmi)\n",
    "if bmi > 30 :\n",
    "    print(name)\n",
    "    print(\"is over weight\")\n",
    "else :\n",
    "    print(name)\n",
    "    print(\"is under weight\")"
   ]
  },
  {
   "cell_type": "code",
   "execution_count": 77,
   "metadata": {},
   "outputs": [
    {
     "name": "stdout",
     "output_type": "stream",
     "text": [
      "BMI\n",
      "0.007842368395255367\n",
      "Liyab\n",
      "is under weight\n"
     ]
    }
   ],
   "source": [
    "#Get user input \n",
    "name = input (\"Please enter your name: \")\n",
    "height = float(input(\"Please enter your height \"))\n",
    "weight = float(input(\"Please enter your weight \"))\n",
    "bmi = weight/(height**2)\n",
    "print(\"BMI\")\n",
    "print(bmi)\n",
    "if bmi > 30 :\n",
    "    print(name)\n",
    "    print(\"is over weight\")\n",
    "else :\n",
    "    print(name)\n",
    "    print(\"is under weight\")"
   ]
  },
  {
   "cell_type": "code",
   "execution_count": 78,
   "metadata": {},
   "outputs": [],
   "source": [
    "#Functions in Python are defined with the def keyword followed by the \n",
    "# function name and the parameters in parentheses.\n",
    "#  The function body is indented and the return keyword is\n",
    "#  used to return the result of the function."
   ]
  },
  {
   "cell_type": "code",
   "execution_count": 79,
   "metadata": {},
   "outputs": [
    {
     "name": "stdout",
     "output_type": "stream",
     "text": [
      "This is outside the function\n",
      "How are you?\n",
      "Today is wednesday\n"
     ]
    }
   ],
   "source": [
    "# A function is a collection of codes/instructions\n",
    "#A function is a mapping of intups to output \n",
    "#Example\n",
    "def function1 (x):\n",
    "    print(\"How are you?\")\n",
    "    print(\"Today is wednesday\")\n",
    "print(\"This is outside the function\")\n",
    "function1(10)  # Provide an argument when calling the function"
   ]
  },
  {
   "cell_type": "code",
   "execution_count": 80,
   "metadata": {},
   "outputs": [
    {
     "name": "stdout",
     "output_type": "stream",
     "text": [
      "This is an outside function\n",
      "How are you?\n",
      "Today is Wednesday\n",
      "Let us go party\n"
     ]
    }
   ],
   "source": [
    "def function_1 ( ):\n",
    "    print(\"How are you?\")\n",
    "    print(\"Today is Wednesday\")\n",
    "    print(\"Let us go party\")\n",
    "print(\"This is an outside function\")\n",
    "function_1 ()"
   ]
  },
  {
   "cell_type": "code",
   "execution_count": 81,
   "metadata": {},
   "outputs": [],
   "source": [
    "def function_2 (x):\n",
    "    return 3 * X\n",
    "X = 9\n",
    "\n"
   ]
  },
  {
   "cell_type": "code",
   "execution_count": 82,
   "metadata": {},
   "outputs": [
    {
     "name": "stdout",
     "output_type": "stream",
     "text": [
      "27\n",
      "27\n",
      "27\n"
     ]
    }
   ],
   "source": [
    "#Use/Call the function\n",
    "a = function_2(X)\n",
    "print(a)\n",
    "result2 = function_2(101)\n",
    "print(result2)\n",
    "result3 = function_2(9)\n",
    "print(result3)"
   ]
  },
  {
   "cell_type": "code",
   "execution_count": 83,
   "metadata": {},
   "outputs": [
    {
     "name": "stdout",
     "output_type": "stream",
     "text": [
      "94\n"
     ]
    }
   ],
   "source": [
    "#multiple argument in the function\n",
    "def function_3 (x, y, z):\n",
    "    return x * y + z\n",
    "#calling the function with multiple arguments\n",
    "div = function_3 (30, 3, 4)\n",
    "print(div)  "
   ]
  },
  {
   "cell_type": "code",
   "execution_count": 84,
   "metadata": {},
   "outputs": [
    {
     "name": "stdout",
     "output_type": "stream",
     "text": [
      "50\n",
      "20300\n"
     ]
    }
   ],
   "source": [
    "div2 = function_3 (6, 7, 8)\n",
    "print(div2)  \n",
    "\n",
    "div3 = function_3 (100, 200, 300)\n",
    "print(div3)"
   ]
  },
  {
   "cell_type": "code",
   "execution_count": 85,
   "metadata": {},
   "outputs": [
    {
     "name": "stdout",
     "output_type": "stream",
     "text": [
      "70\n",
      "Still we are within the function\n",
      "10.0\n"
     ]
    }
   ],
   "source": [
    "#Combining functions as a collection of codes and function as a mapping\n",
    "def function_4 (X):\n",
    "    print(X)\n",
    "    print(\"Still we are within the function\")\n",
    "    return X/7\n",
    "#call the function\n",
    "return4 = function_4 (70)\n",
    "print(return4)\n"
   ]
  },
  {
   "cell_type": "code",
   "execution_count": null,
   "metadata": {},
   "outputs": [],
   "source": [
    "#Class exercise 1\n",
    "# Write a python program using a function to do the following\n",
    "#Request a user to enter name, height, and weight\n",
    "#Display the information entered by the user\n",
    "#Calculate the body mass index (BMI) of the user based the following \n",
    "#If the BMI value is less than 10kg/m2 then the person is under weight\n",
    "#When the BMI value is greater than 35kg/m2 then the person is requested as obess\n",
    "#otherwise the user is normal"
   ]
  },
  {
   "cell_type": "code",
   "execution_count": 1,
   "metadata": {},
   "outputs": [
    {
     "name": "stdout",
     "output_type": "stream",
     "text": [
      "\n",
      "Name: Ama\n",
      "Height: 6.5 meters\n",
      "Weight: 20.0 kilograms\n",
      "BMI: 0.47\n",
      "Ama is under weight\n"
     ]
    }
   ],
   "source": [
    "def calculate_bmi(): # Function to calculate BMI\n",
    "    name = input(\"Please enter your name: \") # Get user input\n",
    "    height = float(input(\"Please enter your height in meters: \")) \n",
    "    weight = float(input(\"Please enter your weight in kilograms: \"))\n",
    "    \n",
    "    bmi = weight / (height ** 2) # Calculate BMI\n",
    "    print(f\"\\nName: {name}\") # Display user information\n",
    "    print(f\"Height: {height} meters\")\n",
    "    print(f\"Weight: {weight} kilograms\")\n",
    "    print(f\"BMI: {bmi:.2f}\") # Display BMI with 2 decimal places\n",
    "    \n",
    "    if bmi < 10: # Check if BMI is underweight\n",
    "        print(f\"{name} is under weight\") # Display user's weight status\n",
    "    elif bmi > 35:\n",
    "        print(f\"{name} is obese\")\n",
    "    else:\n",
    "        print(f\"{name} has a normal weight\") \n",
    "\n",
    "# Call the function to execute\n",
    "calculate_bmi()"
   ]
  },
  {
   "cell_type": "code",
   "execution_count": 3,
   "metadata": {},
   "outputs": [],
   "source": [
    "#Write a python program to calculate the grade for KTU students\n",
    "# Request the student enter the name, programm, index number and value obtain in \n",
    "# Open Source Technology  course base on the Ktu grading System.\n",
    "#Display all the inputs provided and display the grade obtain in the course based on the \n",
    "# marks obtained."
   ]
  },
  {
   "cell_type": "code",
   "execution_count": null,
   "metadata": {},
   "outputs": [
    {
     "name": "stdout",
     "output_type": "stream",
     "text": [
      "\n",
      "Name: Ama\n",
      "Program: computer science\n",
      "Index Number: B202220023\n",
      "Marks Obtained: 85.0\n",
      "Grade: A\n"
     ]
    }
   ],
   "source": [
    "def calculate_grade(): # Function to calculate grade\n",
    "    name = input(\"Please enter your name: \") # Get user input\n",
    "    program = input(\"Please enter your program: \")\n",
    "    index_number = input(\"Please enter your index number: \")\n",
    "    marks = float(input(\"Please enter your marks obtained in Open Source Technology: \"))\n",
    "\n",
    "    if marks >= 80: # Calculate grade based on marks obtained\n",
    "        grade = 'A'\n",
    "    elif marks >= 75:\n",
    "        grade = 'B+'\n",
    "    elif marks >= 70:\n",
    "        grade = 'B'\n",
    "    elif marks >= 65:\n",
    "        grade = 'C+'\n",
    "    elif marks >= 60:\n",
    "        grade = 'C'\n",
    "    elif marks >= 55:\n",
    "        grade = 'D+'\n",
    "    elif marks >= 50:\n",
    "        grade = 'D'\n",
    "    else:\n",
    "        grade = 'F'\n",
    "\n",
    "    print(f\"\\nName: {name}\") # Display user information\n",
    "    print(f\"Program: {program}\")\n",
    "    print(f\"Index Number: {index_number}\")\n",
    "    print(f\"Marks Obtained: {marks}\")\n",
    "    print(f\"Grade: {grade}\")\n",
    "\n",
    "# Call the function to execute\n",
    "calculate_grade()"
   ]
  }
 ],
 "metadata": {
  "kernelspec": {
   "display_name": "Python 3",
   "language": "python",
   "name": "python3"
  },
  "language_info": {
   "codemirror_mode": {
    "name": "ipython",
    "version": 3
   },
   "file_extension": ".py",
   "mimetype": "text/x-python",
   "name": "python",
   "nbconvert_exporter": "python",
   "pygments_lexer": "ipython3",
   "version": "3.13.1"
  }
 },
 "nbformat": 4,
 "nbformat_minor": 2
}
