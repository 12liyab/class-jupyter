{
 "cells": [
  {
   "cell_type": "code",
   "execution_count": 53,
   "metadata": {},
   "outputs": [
    {
     "name": "stdout",
     "output_type": "stream",
     "text": [
      "Hello World\n"
     ]
    }
   ],
   "source": [
    "print(\"Hello World\")"
   ]
  },
  {
   "cell_type": "code",
   "execution_count": 54,
   "metadata": {},
   "outputs": [
    {
     "name": "stdout",
     "output_type": "stream",
     "text": [
      "My name is Liyab\n",
      "I am 21 years old\n",
      "I love to code\n",
      "I school at Koforidua Techincal University\n",
      "I have a brother and 2 sisters\n"
     ]
    }
   ],
   "source": [
    "print(\"My name is Liyab\")\n",
    "print(\"I am 21 years old\")\n",
    "print(\"I love to code\")\n",
    "print(\"I school at Koforidua Techincal University\")\n",
    "print(\"I have a brother and 2 sisters\")"
   ]
  },
  {
   "cell_type": "code",
   "execution_count": 55,
   "metadata": {},
   "outputs": [
    {
     "name": "stdout",
     "output_type": "stream",
     "text": [
      "When a = 10, y = 24\n",
      "y(10) = 24\n",
      "When a = 5, y = 14\n"
     ]
    }
   ],
   "source": [
    "def solve_equation(a):\n",
    "  \"\"\"Solves the equation y = 2a + 4 and returns the value of y.\n",
    "\n",
    "  Args:\n",
    "    a: The value of the variable 'a'.\n",
    "\n",
    "  Returns:\n",
    "    The calculated value of y.\n",
    "  \"\"\"\n",
    "  y = 2 * a + 4\n",
    "  return y\n",
    "\n",
    "# Example usage with a = 10\n",
    "a_value = 10\n",
    "y_value = solve_equation(a_value)\n",
    "\n",
    "print(f\"When a = {a_value}, y = {y_value}\")\n",
    "\n",
    "\n",
    "#Demonstrating the function notation concept\n",
    "def y_of_a(a):\n",
    "    y = 2 * a + 4\n",
    "    return y\n",
    "\n",
    "a_val = 10\n",
    "y_result = y_of_a(a_val)\n",
    "print(f\"y({a_val}) = {y_result}\")\n",
    "\n",
    "\n",
    "#Another Example\n",
    "\n",
    "a_value_2 = 5\n",
    "y_value_2 = solve_equation(a_value_2)\n",
    "print(f\"When a = {a_value_2}, y = {y_value_2}\")"
   ]
  },
  {
   "cell_type": "code",
   "execution_count": 56,
   "metadata": {},
   "outputs": [
    {
     "name": "stdout",
     "output_type": "stream",
     "text": [
      "19\n"
     ]
    }
   ],
   "source": [
    "a = 3\n",
    "b = 7\n",
    "c = 9\n",
    "results = a+b+c\n",
    "print(results)"
   ]
  },
  {
   "cell_type": "code",
   "execution_count": 57,
   "metadata": {},
   "outputs": [
    {
     "name": "stdout",
     "output_type": "stream",
     "text": [
      "Ama\n"
     ]
    }
   ],
   "source": [
    "girlfriends = [\"Yaa\", \"Ama\", \"Adwoa\"]\n",
    "print(girlfriends [1])"
   ]
  },
  {
   "cell_type": "code",
   "execution_count": 58,
   "metadata": {},
   "outputs": [
    {
     "name": "stdout",
     "output_type": "stream",
     "text": [
      "('Yaa', 'Ama', 'Adwoa')\n"
     ]
    }
   ],
   "source": [
    "girlfriends = (\"Yaa\", \"Ama\", \"Adwoa\")\n",
    "print(girlfriends)"
   ]
  },
  {
   "cell_type": "code",
   "execution_count": 59,
   "metadata": {},
   "outputs": [
    {
     "name": "stdout",
     "output_type": "stream",
     "text": [
      "l\n"
     ]
    }
   ],
   "source": [
    "Name = \"Hello World\"\n",
    "print(Name[2])"
   ]
  },
  {
   "cell_type": "code",
   "execution_count": 60,
   "metadata": {},
   "outputs": [
    {
     "name": "stdout",
     "output_type": "stream",
     "text": [
      "Hello World\n",
      "Hello World\n"
     ]
    }
   ],
   "source": [
    "print('Hello World')\n",
    "print(\"Hello World\")"
   ]
  },
  {
   "cell_type": "code",
   "execution_count": 61,
   "metadata": {},
   "outputs": [
    {
     "name": "stdout",
     "output_type": "stream",
     "text": [
      "7\n"
     ]
    }
   ],
   "source": [
    "X = 3\n",
    "Y = 4\n",
    "sum = X + Y\n",
    "print(sum)"
   ]
  },
  {
   "cell_type": "code",
   "execution_count": 62,
   "metadata": {},
   "outputs": [
    {
     "name": "stdout",
     "output_type": "stream",
     "text": [
      "My name is Kofi Manu\n",
      "Today is my birthday\n",
      "I am Happy\n"
     ]
    }
   ],
   "source": [
    "print(\"My name is Kofi Manu\")\n",
    "print(\"Today is my birthday\")\n",
    "print(\"I am Happy\")"
   ]
  },
  {
   "cell_type": "code",
   "execution_count": 63,
   "metadata": {},
   "outputs": [
    {
     "name": "stdout",
     "output_type": "stream",
     "text": [
      "['kofi', 'Alice', 'Ama', 'Yaw']\n",
      "Alice\n"
     ]
    }
   ],
   "source": [
    "newfriends = [\"kofi\", \"Alice\", \"Ama\", \"Yaw\"]\n",
    "print (newfriends)\n",
    "print (newfriends[1])"
   ]
  },
  {
   "cell_type": "code",
   "execution_count": 64,
   "metadata": {},
   "outputs": [
    {
     "name": "stdout",
     "output_type": "stream",
     "text": [
      "['kofi', 'Alice', 'Ama', 'Yaw', 'Amoa']\n"
     ]
    }
   ],
   "source": [
    "#Adding items to an exsiting list\n",
    "#use dot notation e.g Add new friend Amoa\n",
    "newfriends.append (\"Amoa\")\n",
    "print (newfriends)"
   ]
  },
  {
   "cell_type": "code",
   "execution_count": 65,
   "metadata": {},
   "outputs": [
    {
     "name": "stdout",
     "output_type": "stream",
     "text": [
      "['kofi', 'Alice', 'Ama', 'Yaw', 'Amoa', 1000]\n"
     ]
    }
   ],
   "source": [
    "newfriends.append (1000)\n",
    "print (newfriends)"
   ]
  },
  {
   "cell_type": "code",
   "execution_count": 66,
   "metadata": {},
   "outputs": [
    {
     "name": "stdout",
     "output_type": "stream",
     "text": [
      "['kofi', 'Alice', 'Ama', 'Yaw', 'Amoa', 1000, [200, 500, 700]]\n"
     ]
    }
   ],
   "source": [
    "#Adding more than one items\n",
    "newfriends.append ([200, 500, 700])\n",
    "print(newfriends)"
   ]
  },
  {
   "cell_type": "code",
   "execution_count": 67,
   "metadata": {},
   "outputs": [
    {
     "name": "stdout",
     "output_type": "stream",
     "text": [
      "['kofi', 'Alice', 'Ama', 'Yaw', 'Amoa', 1000, [200, 500, 700], ['Kofi', 'Yaa']]\n"
     ]
    }
   ],
   "source": [
    "newfriends.append([\"Kofi\", \"Yaa\"])\n",
    "print(newfriends)"
   ]
  },
  {
   "cell_type": "code",
   "execution_count": 68,
   "metadata": {},
   "outputs": [
    {
     "name": "stdout",
     "output_type": "stream",
     "text": [
      "['kofi', 'Alice', 'Ama', 'Yaw', 'Amoa', 1000, [200, 500, 700]]\n"
     ]
    }
   ],
   "source": [
    "#Delete items from a list\n",
    "newfriends.pop()\n",
    "print(newfriends)"
   ]
  },
  {
   "cell_type": "code",
   "execution_count": 69,
   "metadata": {},
   "outputs": [
    {
     "name": "stdout",
     "output_type": "stream",
     "text": [
      "['kofi', 'Alice', 'Ama', 'Yaw', 'Amoa', 1000]\n",
      "['kofi', 'Ama', 'Yaw', 'Amoa', 1000]\n"
     ]
    }
   ],
   "source": [
    "newfriends.pop()\n",
    "print(newfriends)\n",
    "newfriends.pop(1)\n",
    "print(newfriends)"
   ]
  },
  {
   "cell_type": "code",
   "execution_count": 70,
   "metadata": {},
   "outputs": [
    {
     "name": "stdout",
     "output_type": "stream",
     "text": [
      "['Michael', 'Alice', 'Ama', 'Yaw']\n"
     ]
    }
   ],
   "source": [
    "#Replace items in a list\n",
    "newfriends = [\"Kofi\", \"Alice\", \"Ama\", \"Yaw\"]\n",
    "#Replace Michael with Kofi\n",
    "newfriends[0] = \"Michael\"\n",
    "print(newfriends)"
   ]
  },
  {
   "cell_type": "code",
   "execution_count": 71,
   "metadata": {},
   "outputs": [
    {
     "name": "stdout",
     "output_type": "stream",
     "text": [
      "['Michael', 'Alice', 'Ama', 'Yawa']\n"
     ]
    }
   ],
   "source": [
    "#Replace Yaw with Yawa\n",
    "newfriends[3] = \"Yawa\"\n",
    "print(newfriends)"
   ]
  },
  {
   "cell_type": "code",
   "execution_count": 72,
   "metadata": {},
   "outputs": [
    {
     "name": "stdout",
     "output_type": "stream",
     "text": [
      "['Ama', 'Alice', 'Kofi', 'Yaw']\n"
     ]
    }
   ],
   "source": [
    "#Swap items\n",
    "#Swap Kofi and Ama\n",
    "newfriends = [\"Kofi\", \"Alice\", \"Ama\", \"Yaw\"]\n",
    "temp = newfriends[0]\n",
    "newfriends[0] = newfriends[2]\n",
    "newfriends[2] = temp\n",
    "print(newfriends)"
   ]
  },
  {
   "cell_type": "code",
   "execution_count": 73,
   "metadata": {},
   "outputs": [
    {
     "name": "stdout",
     "output_type": "stream",
     "text": [
      "['Kate', 'Adwoa', 'Patience', 'Ama']\n"
     ]
    }
   ],
   "source": [
    "#Class Exercise 1\n",
    "# A BTech Computer Science Student of KTU, has decided to write a computer program \n",
    "# to keep track of his girlfriends in the university the order of arrangement of the girls is a priority to the boy\n",
    "# He initially arranged the girls in a list named  \"mygirls\" as [\"Ama\", \"Adwoa\", \"Patience\", \"Kate\"]\n",
    "#A few weeks down the line, he realized that he needs to change the priority of the girls such Kate will now begins his \n",
    "#first priority. Help this student by writing a python program to accomplish the task above\n",
    "\n",
    "mygirls = [\"Ama\", \"Adwoa\", \"Patience\", \"Kate\"]\n",
    "temp = mygirls[0]\n",
    "mygirls[0] = mygirls[3]\n",
    "mygirls[3] = temp\n",
    "print(mygirls)"
   ]
  },
  {
   "cell_type": "code",
   "execution_count": 74,
   "metadata": {},
   "outputs": [
    {
     "name": "stdout",
     "output_type": "stream",
     "text": [
      "x is less than y\n",
      "x is something else\n"
     ]
    }
   ],
   "source": [
    "x = 3\n",
    "y = 4\n",
    "if x < y :\n",
    "    print(\"x is less than y\")\n",
    "    print(\"x is something else\")\n"
   ]
  },
  {
   "cell_type": "code",
   "execution_count": 75,
   "metadata": {},
   "outputs": [
    {
     "name": "stdout",
     "output_type": "stream",
     "text": [
      "a is less than b\n",
      "go to the next line\n"
     ]
    }
   ],
   "source": [
    "a = 10 #change the numbers for diffrent outputs\n",
    "b = 13\n",
    "if a < b :\n",
    "    print(\"a is less than b\")\n",
    "    print(\"go to the next line\")\n",
    "elif a==b:\n",
    "    print(\"a is equal to b\")\n",
    "    print(\"you are almost there\")\n",
    "else :\n",
    "    print(\"a is greater than b\")\n",
    "    print(\"you are done\")"
   ]
  },
  {
   "cell_type": "code",
   "execution_count": 76,
   "metadata": {},
   "outputs": [
    {
     "name": "stdout",
     "output_type": "stream",
     "text": [
      "BMI\n",
      "7.175\n",
      "Kofi Mensah\n",
      "is under weight\n"
     ]
    }
   ],
   "source": [
    "#Build a BMI Calculator \n",
    "#bmi is a number that tells whether\n",
    "#a person is over weight or not based \n",
    "# on their weight and height \n",
    "name = \"Kofi Mensah\"\n",
    "height = 2\n",
    "weight = 28.7\n",
    "bmi = weight/(height**2)\n",
    "print(\"BMI\")\n",
    "print(bmi)\n",
    "if bmi > 30 :\n",
    "    print(name)\n",
    "    print(\"is over weight\")\n",
    "else :\n",
    "    print(name)\n",
    "    print(\"is under weight\")"
   ]
  },
  {
   "cell_type": "code",
   "execution_count": 77,
   "metadata": {},
   "outputs": [
    {
     "name": "stdout",
     "output_type": "stream",
     "text": [
      "BMI\n",
      "0.007842368395255367\n",
      "Liyab\n",
      "is under weight\n"
     ]
    }
   ],
   "source": [
    "#Get user input \n",
    "name = input (\"Please enter your name: \")\n",
    "height = float(input(\"Please enter your height \"))\n",
    "weight = float(input(\"Please enter your weight \"))\n",
    "bmi = weight/(height**2)\n",
    "print(\"BMI\")\n",
    "print(bmi)\n",
    "if bmi > 30 :\n",
    "    print(name)\n",
    "    print(\"is over weight\")\n",
    "else :\n",
    "    print(name)\n",
    "    print(\"is under weight\")"
   ]
  },
  {
   "cell_type": "code",
   "execution_count": 78,
   "metadata": {},
   "outputs": [],
   "source": [
    "#Functions in Python are defined with the def keyword followed by the \n",
    "# function name and the parameters in parentheses.\n",
    "#  The function body is indented and the return keyword is\n",
    "#  used to return the result of the function."
   ]
  },
  {
   "cell_type": "code",
   "execution_count": 79,
   "metadata": {},
   "outputs": [
    {
     "name": "stdout",
     "output_type": "stream",
     "text": [
      "This is outside the function\n",
      "How are you?\n",
      "Today is wednesday\n"
     ]
    }
   ],
   "source": [
    "# A function is a collection of codes/instructions\n",
    "#A function is a mapping of intups to output \n",
    "#Example\n",
    "def function1 (x):\n",
    "    print(\"How are you?\")\n",
    "    print(\"Today is wednesday\")\n",
    "print(\"This is outside the function\")\n",
    "function1(10)  # Provide an argument when calling the function"
   ]
  },
  {
   "cell_type": "code",
   "execution_count": 80,
   "metadata": {},
   "outputs": [
    {
     "name": "stdout",
     "output_type": "stream",
     "text": [
      "This is an outside function\n",
      "How are you?\n",
      "Today is Wednesday\n",
      "Let us go party\n"
     ]
    }
   ],
   "source": [
    "def function_1 ( ):\n",
    "    print(\"How are you?\")\n",
    "    print(\"Today is Wednesday\")\n",
    "    print(\"Let us go party\")\n",
    "print(\"This is an outside function\")\n",
    "function_1 ()"
   ]
  },
  {
   "cell_type": "code",
   "execution_count": 81,
   "metadata": {},
   "outputs": [],
   "source": [
    "def function_2 (x):\n",
    "    return 3 * X\n",
    "X = 9\n",
    "\n"
   ]
  },
  {
   "cell_type": "code",
   "execution_count": 82,
   "metadata": {},
   "outputs": [
    {
     "name": "stdout",
     "output_type": "stream",
     "text": [
      "27\n",
      "27\n",
      "27\n"
     ]
    }
   ],
   "source": [
    "#Use/Call the function\n",
    "a = function_2(X)\n",
    "print(a)\n",
    "result2 = function_2(101)\n",
    "print(result2)\n",
    "result3 = function_2(9)\n",
    "print(result3)"
   ]
  },
  {
   "cell_type": "code",
   "execution_count": 83,
   "metadata": {},
   "outputs": [
    {
     "name": "stdout",
     "output_type": "stream",
     "text": [
      "94\n"
     ]
    }
   ],
   "source": [
    "#multiple argument in the function\n",
    "def function_3 (x, y, z):\n",
    "    return x * y + z\n",
    "#calling the function with multiple arguments\n",
    "div = function_3 (30, 3, 4)\n",
    "print(div)  "
   ]
  },
  {
   "cell_type": "code",
   "execution_count": 84,
   "metadata": {},
   "outputs": [
    {
     "name": "stdout",
     "output_type": "stream",
     "text": [
      "50\n",
      "20300\n"
     ]
    }
   ],
   "source": [
    "div2 = function_3 (6, 7, 8)\n",
    "print(div2)  \n",
    "\n",
    "div3 = function_3 (100, 200, 300)\n",
    "print(div3)"
   ]
  },
  {
   "cell_type": "code",
   "execution_count": 85,
   "metadata": {},
   "outputs": [
    {
     "name": "stdout",
     "output_type": "stream",
     "text": [
      "70\n",
      "Still we are within the function\n",
      "10.0\n"
     ]
    }
   ],
   "source": [
    "#Combining functions as a collection of codes and function as a mapping\n",
    "def function_4 (X):\n",
    "    print(X)\n",
    "    print(\"Still we are within the function\")\n",
    "    return X/7\n",
    "#call the function\n",
    "return4 = function_4 (70)\n",
    "print(return4)\n"
   ]
  },
  {
   "cell_type": "code",
   "execution_count": null,
   "metadata": {},
   "outputs": [],
   "source": [
    "#Class exercise 1\n",
    "# Write a python program using a function to do the following\n",
    "#Request a user to enter name, height, and weight\n",
    "#Display the information entered by the user\n",
    "#Calculate the body mass index (BMI) of the user based the following \n",
    "#If the BMI value is less than 10kg/m2 then the person is under weight\n",
    "#When the BMI value is greater than 35kg/m2 then the person is requested as obess\n",
    "#otherwise the user is normal"
   ]
  },
  {
   "cell_type": "code",
   "execution_count": 1,
   "metadata": {},
   "outputs": [
    {
     "name": "stdout",
     "output_type": "stream",
     "text": [
      "\n",
      "Name: Ama\n",
      "Height: 6.5 meters\n",
      "Weight: 20.0 kilograms\n",
      "BMI: 0.47\n",
      "Ama is under weight\n"
     ]
    }
   ],
   "source": [
    "def calculate_bmi(): # Function to calculate BMI\n",
    "    name = input(\"Please enter your name: \") # Get user input\n",
    "    height = float(input(\"Please enter your height in meters: \")) \n",
    "    weight = float(input(\"Please enter your weight in kilograms: \"))\n",
    "    \n",
    "    bmi = weight / (height ** 2) # Calculate BMI\n",
    "    print(f\"\\nName: {name}\") # Display user information\n",
    "    print(f\"Height: {height} meters\")\n",
    "    print(f\"Weight: {weight} kilograms\")\n",
    "    print(f\"BMI: {bmi:.2f}\") # Display BMI with 2 decimal places\n",
    "    \n",
    "    if bmi < 10: # Check if BMI is underweight\n",
    "        print(f\"{name} is under weight\") # Display user's weight status\n",
    "    elif bmi > 35:\n",
    "        print(f\"{name} is obese\")\n",
    "    else:\n",
    "        print(f\"{name} has a normal weight\") \n",
    "\n",
    "# Call the function to execute\n",
    "calculate_bmi()"
   ]
  },
  {
   "cell_type": "code",
   "execution_count": 3,
   "metadata": {},
   "outputs": [],
   "source": [
    "#Write a python program to calculate the grade for KTU students\n",
    "# Request the student enter the name, programm, index number and value obtain in \n",
    "# Open Source Technology  course base on the Ktu grading System.\n",
    "#Display all the inputs provided and display the grade obtain in the course based on the \n",
    "# marks obtained."
   ]
  },
  {
   "cell_type": "code",
   "execution_count": null,
   "metadata": {},
   "outputs": [],
   "source": [
    "def calculate_grade(): # Function to calculate grade\n",
    "    name = input(\"Please enter your name: \") # Get user input\n",
    "    program = input(\"Please enter your program: \")\n",
    "    index_number = input(\"Please enter your index number: \")\n",
    "    marks = float(input(\"Please enter your marks obtained in Open Source Technology: \"))\n",
    "\n",
    "    if marks >= 80: # Calculate grade based on marks obtained\n",
    "        grade = 'A'\n",
    "    elif marks >= 75:\n",
    "        grade = 'B+'\n",
    "    elif marks >= 70:\n",
    "        grade = 'B'\n",
    "    elif marks >= 65:\n",
    "        grade = 'C+'\n",
    "    elif marks >= 60:\n",
    "        grade = 'C'\n",
    "    elif marks >= 55:\n",
    "        grade = 'D+'\n",
    "    elif marks >= 50:\n",
    "        grade = 'D'\n",
    "    else:\n",
    "        grade = 'F'\n",
    "\n",
    "    print(f\"\\nName: {name}\") # Display user information\n",
    "    print(f\"Program: {program}\")\n",
    "    print(f\"Index Number: {index_number}\")\n",
    "    print(f\"Marks Obtained: {marks}\")\n",
    "    print(f\"Grade: {grade}\")\n",
    "\n",
    "# Call the function to execute\n",
    "calculate_grade()"
   ]
  },
  {
   "cell_type": "code",
   "execution_count": null,
   "metadata": {},
   "outputs": [],
   "source": [
    "def get_valid_input(prompt, input_type=\"string\"): # type: ignore\n",
    "    \"\"\"Get valid input from the user based on the specified type.\"\"\"\n",
    "    while True:\n",
    "        user_input = input(prompt).strip() # type: ignore\n",
    "        if not user_input: # Check if input is empty\n",
    "            print(\"Input cannot be empty. Please try again.\")\n",
    "            continue\n",
    "\n",
    "        if input_type == \"string\": # Check if input is a string\n",
    "            if user_input.replace(\" \", \"\").isalpha():  # Allow spaces in names/programs\n",
    "                return user_input # Return valid input\n",
    "            else:\n",
    "                print(\"Invalid input. Please enter only alphabets (no numbers or special characters).\")\n",
    "        elif input_type == \"index\": # Check if input is a valid index number\n",
    "            if user_input.isalnum():  # Check if the input contains only alphanumeric characters\n",
    "                return user_input # Return valid input\n",
    "            else:\n",
    "                print(\"Invalid input. Please enter only alphanumeric characters.\")\n",
    "        elif input_type == \"marks\":\n",
    "            try:\n",
    "                marks = float(user_input)  # Check if the input is a valid number or decimal\n",
    "                if 0 <= marks <= 100:  # Assuming marks are between 0 and 100\n",
    "                    return marks\n",
    "                else:\n",
    "                    print(\"Invalid input. Marks must be between 0 and 100.\")\n",
    "            except ValueError: # If the input is not a valid number or decimal\n",
    "                print(\"Invalid input. Please enter a valid number or decimal.\")\n",
    "        else:\n",
    "            raise ValueError(\"Invalid input type specified.\")\n",
    "\n",
    "def calculate_grade(): # type: ignore\n",
    "    \"\"\"Function to calculate grade based on user input.\"\"\"\n",
    "    print(\"Welcome to the Grade Calculator!\")\n",
    "    \n",
    "    # Get user input with validation\n",
    "    name = get_valid_input(\"Please enter your name: \", input_type=\"string\") \n",
    "    program = get_valid_input(\"Please enter your program: \", input_type=\"string\")\n",
    "    index_number = get_valid_input(\"Please enter your index number: \", input_type=\"index\")\n",
    "    marks = get_valid_input(\"Please enter your marks obtained in Open Source Technology: \", input_type=\"marks\")\n",
    "\n",
    "    # Calculate grade based on marks obtained\n",
    "    if marks >= 85:\n",
    "        grade = 'A+'\n",
    "    elif marks >= 80:\n",
    "        grade = 'A'\n",
    "    elif marks >= 75:\n",
    "        grade = 'B+'\n",
    "    elif marks >= 70:\n",
    "        grade = 'B'\n",
    "    elif marks >= 65:\n",
    "        grade = 'C+'\n",
    "    elif marks >= 60:\n",
    "        grade = 'C'\n",
    "    elif marks >= 55:\n",
    "        grade = 'D+'\n",
    "    elif marks >= 50:\n",
    "        grade = 'D'\n",
    "    else:\n",
    "        grade = 'F'\n",
    "\n",
    "    # Display user information\n",
    "    print(\"\\n--- Grade Report ---\")\n",
    "    print(f\"Name: {name}\")\n",
    "    print(f\"Program: {program}\")\n",
    "    print(f\"Index Number: {index_number}\")\n",
    "    print(f\"Marks Obtained: {marks}\")\n",
    "    print(f\"Grade: {grade}\")\n",
    "\n",
    "# Call the function to execute\n",
    "calculate_grade()"
   ]
  },
  {
   "cell_type": "code",
   "execution_count": null,
   "metadata": {},
   "outputs": [
    {
     "name": "stdout",
     "output_type": "stream",
     "text": [
      "You are not there yet, x = 0\n",
      "x =1\n",
      "You are not there yet, x = 1\n",
      "x =2\n",
      "You are not there yet, x = 2\n",
      "x =3\n",
      "You are not there yet, x = 3\n",
      "x =4\n",
      "You are not there yet, x = 4\n",
      "x =5\n"
     ]
    }
   ],
   "source": [
    "#automating Respective Task\n",
    "#While loops\n",
    "#While loops are used to repeat a block of code until a specified condition is met.\n",
    "#The condition is evaluated before executing the code block.\n",
    "#Example\n",
    "x = 0\n",
    "while x < 5: # Check if x is less than 5\n",
    "    print(\"You are not there yet, x = \" + str(x))\n",
    "    x = x + 1 # Increment x by 1\n",
    "    print(\"x =\" + str(x)) # Display the value of x"
   ]
  },
  {
   "cell_type": "code",
   "execution_count": 10,
   "metadata": {},
   "outputs": [
    {
     "name": "stdout",
     "output_type": "stream",
     "text": [
      "Attempts 1\n",
      "Attempts 2\n",
      "Attempts 3\n",
      "Attempts 4\n",
      "Attempts 5\n",
      "Attempts 6\n",
      "You are done\n",
      "Attempts 1\n",
      "Attempts 2\n",
      "Attempts 3\n",
      "You are done\n"
     ]
    }
   ],
   "source": [
    "#How to put a while loop in a function\n",
    "def attemps(n):\n",
    "    x = 1\n",
    "    while x <= n:\n",
    "        print(\"Attempts \" + str(x))\n",
    "        x = x + 1\n",
    "    print(\"You are done\")\n",
    "attemps(6) # Call the function with 5 attempts\n",
    "attemps(3) # Call the function with 3 attempts"
   ]
  },
  {
   "cell_type": "code",
   "execution_count": null,
   "metadata": {},
   "outputs": [],
   "source": [
    "#NB : The while loop will continue to run until the condition is false\n",
    "#If the condition is always true, the loop will run indefinitely\n",
    "#To avoid infinite loops, ensure the condition will eventually be false\n",
    "#Always you need to increment the value of the variable in the loop"
   ]
  },
  {
   "cell_type": "code",
   "execution_count": 11,
   "metadata": {},
   "outputs": [
    {
     "name": "stdout",
     "output_type": "stream",
     "text": [
      "apple\n",
      "banana\n",
      "cherry\n"
     ]
    }
   ],
   "source": [
    "#For loops\n",
    "#For loops are used to iterate over a sequence (list, tuple, dictionary, string, etc.)\n",
    "#The loop will run for each item in the sequence.\n",
    "#Example\n",
    "fruits = ['apple', 'banana', 'cherry']\n",
    "for fruit in fruits: # Iterate over the list of fruits\n",
    "    print(fruit) # Display each fruit"
   ]
  },
  {
   "cell_type": "code",
   "execution_count": 12,
   "metadata": {},
   "outputs": [
    {
     "name": "stdout",
     "output_type": "stream",
     "text": [
      "0\n",
      "1\n",
      "2\n",
      "3\n",
      "4\n"
     ]
    }
   ],
   "source": [
    "# For loops are used for iterating over a sequence of values\n",
    "#Example\n",
    "for n in range(5): # Loop through numbers 0 to 5\n",
    "    print(n) # Display the value of x"
   ]
  },
  {
   "cell_type": "code",
   "execution_count": null,
   "metadata": {},
   "outputs": [],
   "source": [
    "#NB : The range() function generates a sequence of numbers from 0 to n-1\n",
    "#example if the parameter is 1 range(5): will generate 0, 1, 2, 3, 4\n",
    "#The range() function can also accept a starting value and a step value\n",
    "#if the parameter are 2 e.g range(0, 5) will generate 0, 1, 2, 3, 4\n",
    "#if the parameter are 3 e.g range(0, 105, 10) will generate 0, 10, 20, 30, 40, 50, 60, 70, 80, 90, 100"
   ]
  },
  {
   "cell_type": "code",
   "execution_count": 13,
   "metadata": {},
   "outputs": [
    {
     "name": "stdout",
     "output_type": "stream",
     "text": [
      "362880\n"
     ]
    }
   ],
   "source": [
    "#Example 2 \n",
    "#Calculate the product of all numbers from 1 to 10\n",
    "product = 1\n",
    "for n in range(1, 10): # Loop through numbers 1 to 10\n",
    "    product *= n # Multiply the product by the current number\n",
    "print(product) # Display the final product\n"
   ]
  },
  {
   "cell_type": "code",
   "execution_count": null,
   "metadata": {},
   "outputs": [
    {
     "name": "stdout",
     "output_type": "stream",
     "text": [
      "0 -17.77777777777778\n",
      "10 -12.222222222222221\n",
      "20 -6.666666666666667\n",
      "30 -1.1111111111111112\n",
      "40 4.444444444444445\n",
      "50 10.0\n",
      "60 15.555555555555555\n",
      "70 21.11111111111111\n",
      "80 26.666666666666668\n",
      "90 32.22222222222222\n",
      "100 37.77777777777778\n"
     ]
    }
   ],
   "source": [
    "#How to put for loop in a function\n",
    "def calculate(x): # Function to calculate the product of numbers from 1 to x\n",
    "    return(x-32) * 5/9 # Formula to convert Fahrenheit to Celsius\n",
    "for x in range(0, 101, 10): # Loop through numbers 0 to 100 with a step of 10\n",
    "    print(x, calculate(x)) # Display the Fahrenheit and Celsius values"
   ]
  },
  {
   "cell_type": "code",
   "execution_count": null,
   "metadata": {},
   "outputs": [
    {
     "name": "stdout",
     "output_type": "stream",
     "text": [
      "(0, 0)\n",
      "(0, 1)\n",
      "(1, 0)\n",
      "(1, 1)\n",
      "(2, 0)\n",
      "(2, 1)\n"
     ]
    }
   ],
   "source": [
    "#nested  for loops\n",
    "#Nested loops are loops within a loop\n",
    "#The inner loop will run for each iteration of the outer loop\n",
    "#Example\n",
    "for x in range(3): # Outer loop\n",
    "    for y in range(2): # Inner loop\n",
    "        print(f\"({x}, {y})\") # Display the value of x and y\n",
    "        print (\"[\" + str(x) + \", \" + str(y) + \"]\", end = \" \")\n",
    "    print()"
   ]
  },
  {
   "cell_type": "code",
   "execution_count": null,
   "metadata": {},
   "outputs": [
    {
     "name": "stdout",
     "output_type": "stream",
     "text": [
      "[0, 0] [0, 1] [0, 2] [0, 3] [0, 4] [0, 5] [0, 6] \n",
      "[1, 1] [1, 2] [1, 3] [1, 4] [1, 5] [1, 6] \n",
      "[2, 2] [2, 3] [2, 4] [2, 5] [2, 6] \n",
      "[3, 3] [3, 4] [3, 5] [3, 6] \n",
      "[4, 4] [4, 5] [4, 6] \n",
      "[5, 5] [5, 6] \n",
      "[6, 6] \n"
     ]
    }
   ],
   "source": [
    "#Example 2\n",
    "for left in range(7): # Outer loop\n",
    "    for right in range(left, 7): # Inner loop\n",
    "        print (\"[\" + str(left) + \", \" + str(right) + \"]\", end = \" \")\n",
    "    print() # Display the value of left and right"
   ]
  },
  {
   "cell_type": "code",
   "execution_count": 20,
   "metadata": {},
   "outputs": [
    {
     "name": "stdout",
     "output_type": "stream",
     "text": [
      "Barcelona vs Real Madrid\n",
      "Barcelona vs Chelsea\n",
      "Barcelona vs Manchester United\n",
      "Real Madrid vs Barcelona\n",
      "Real Madrid vs Chelsea\n",
      "Real Madrid vs Manchester United\n",
      "Chelsea vs Barcelona\n",
      "Chelsea vs Real Madrid\n",
      "Chelsea vs Manchester United\n",
      "Manchester United vs Barcelona\n",
      "Manchester United vs Real Madrid\n",
      "Manchester United vs Chelsea\n"
     ]
    }
   ],
   "source": [
    "teams = [\"Barcelona\", \"Real Madrid\", \"Chelsea\" , \"Manchester United\"]\n",
    "for home_team in teams :\n",
    "    for away_team in teams:\n",
    "        if home_team != away_team:\n",
    "            print(home_team + \" vs \" + away_team)"
   ]
  },
  {
   "cell_type": "code",
   "execution_count": 21,
   "metadata": {},
   "outputs": [
    {
     "name": "stdout",
     "output_type": "stream",
     "text": [
      "\n",
      "Fixtures for Arsenal:\n",
      "Arsenal vs Aston Villa\n",
      "Arsenal vs Brentford\n",
      "Arsenal vs Brighton\n",
      "Arsenal vs Burnley\n",
      "Arsenal vs Chelsea\n",
      "Arsenal vs Crystal Palace\n",
      "Arsenal vs Everton\n",
      "Arsenal vs Leeds United\n",
      "Arsenal vs Leicester City\n",
      "Arsenal vs Liverpool\n",
      "Arsenal vs Manchester City\n",
      "Arsenal vs Manchester United\n",
      "Arsenal vs Newcastle United\n",
      "Arsenal vs Norwich City\n",
      "Arsenal vs Southampton\n",
      "Arsenal vs Tottenham Hotspur\n",
      "Arsenal vs Watford\n",
      "Arsenal vs West Ham United\n",
      "Arsenal vs Wolverhampton Wanderers\n",
      "Aston Villa vs Arsenal\n",
      "Brentford vs Arsenal\n",
      "Brighton vs Arsenal\n",
      "Burnley vs Arsenal\n",
      "Chelsea vs Arsenal\n",
      "Crystal Palace vs Arsenal\n",
      "Everton vs Arsenal\n",
      "Leeds United vs Arsenal\n",
      "Leicester City vs Arsenal\n",
      "Liverpool vs Arsenal\n",
      "Manchester City vs Arsenal\n",
      "Manchester United vs Arsenal\n",
      "Newcastle United vs Arsenal\n",
      "Norwich City vs Arsenal\n",
      "Southampton vs Arsenal\n",
      "Tottenham Hotspur vs Arsenal\n",
      "Watford vs Arsenal\n",
      "West Ham United vs Arsenal\n",
      "Wolverhampton Wanderers vs Arsenal\n"
     ]
    }
   ],
   "source": [
    "# List of all teams in the English Premier League\n",
    "teams = [\n",
    "    \"Arsenal\", \"Aston Villa\", \"Brentford\", \"Brighton\", \"Burnley\", \"Chelsea\", \n",
    "    \"Crystal Palace\", \"Everton\", \"Leeds United\", \"Leicester City\", \"Liverpool\", \n",
    "    \"Manchester City\", \"Manchester United\", \"Newcastle United\", \"Norwich City\", \n",
    "    \"Southampton\", \"Tottenham Hotspur\", \"Watford\", \"West Ham United\", \"Wolverhampton Wanderers\"\n",
    "]\n",
    "\n",
    "# Ask the user to input the name of the team\n",
    "user_team = input(\"Please enter the name of your team: \").strip()\n",
    "\n",
    "# Check if the team is in the list\n",
    "if user_team not in teams:\n",
    "    print(\"The team you entered is not in the English Premier League.\")\n",
    "else:\n",
    "    # Print the fixtures for the user's team\n",
    "    print(f\"\\nFixtures for {user_team}:\")\n",
    "    for home_team in teams:\n",
    "        for away_team in teams:\n",
    "            if home_team != away_team:\n",
    "                if home_team == user_team or away_team == user_team:\n",
    "                    print(f\"{home_team} vs {away_team}\")"
   ]
  },
  {
   "cell_type": "code",
   "execution_count": null,
   "metadata": {},
   "outputs": [],
   "source": [
    "#the chief of your village has established a baseball league for the baseball \n",
    "# team in the village for them to play games on home and away basis. The names of\n",
    "#  the team are very important. The team has been placed in a list called teams. \n",
    "# Now the chief wants you to pair these teams to play a league in a home and away basis. \n",
    "# What you don't want to see is that a team plays against itself.\n",
    "#Write a python program to ask the chief to enter all the names of these teams, \n",
    "# pair the teams for purpose of playing in a league at the village to entertain the people. \n",
    "# note use the teams in the European league for the example"
   ]
  },
  {
   "cell_type": "code",
   "execution_count": null,
   "metadata": {},
   "outputs": [],
   "source": [
    "def get_teams(): # Function to get team names\n",
    "    \"\"\"Ask the chief to enter the names of the teams.\"\"\"\n",
    "    teams = []\n",
    "    print(\"Welcome, Chief! Please enter the names of the teams in the league.\")\n",
    "    while True: # Get team names until the chief is done\n",
    "        team = input(\"Enter a team name (or type 'done' to finish): \").strip() # Get user input\n",
    "        if team.lower() == 'done':\n",
    "            break\n",
    "        if team:  # Ensure the team name is not empty\n",
    "            teams.append(team)\n",
    "        else:\n",
    "            print(\"Team name cannot be empty. Please try again.\")\n",
    "    return teams\n",
    "\n",
    "def generate_fixtures(teams): # Function to generate fixtures\n",
    "    \"\"\"Generate home and away fixtures for the teams.\"\"\"\n",
    "    fixtures = [] # List to store fixtures\n",
    "    num_teams = len(teams)\n",
    "    if num_teams % 2 != 0:  # If odd number of teams, add a \"BYE\" team\n",
    "        teams.append(\"BYE\")\n",
    "        num_teams += 1\n",
    "\n",
    "    for i in range(num_teams - 1): # Generate fixtures for each round\n",
    "        round_fixtures = [] # List to store fixtures for the round\n",
    "        for j in range(num_teams // 2): # Generate fixtures for each round\n",
    "            home = teams[j]\n",
    "            away = teams[num_teams - 1 - j]\n",
    "            if home != \"BYE\" and away != \"BYE\":  # Skip BYE matches\n",
    "                round_fixtures.append((home, away))\n",
    "        fixtures.append(round_fixtures)\n",
    "        # Rotate teams for the next round\n",
    "        teams.insert(1, teams.pop())\n",
    "\n",
    "    return fixtures\n",
    "\n",
    "def display_fixtures(fixtures): # Function to display fixtures\n",
    "    \"\"\"Display the generated fixtures.\"\"\"\n",
    "    print(\"\\nLeague Fixtures:\")\n",
    "    for i, round_fixtures in enumerate(fixtures, start=1):\n",
    "        print(f\"\\nRound {i}:\")\n",
    "        for match in round_fixtures:\n",
    "            print(f\"{match[0]} (Home) vs {match[1]} (Away)\")\n",
    "\n",
    "def main(): # Main function\n",
    "    \"\"\"Main function to run the program.\"\"\"\n",
    "    teams = get_teams()\n",
    "    if len(teams) < 2:\n",
    "        print(\"You need at least 2 teams to create a league.\")\n",
    "        return\n",
    "    fixtures = generate_fixtures(teams)\n",
    "    display_fixtures(fixtures)\n",
    "\n",
    "if __name__ == \"__main__\":\n",
    "    main()"
   ]
  }
 ],
 "metadata": {
  "kernelspec": {
   "display_name": "Python 3",
   "language": "python",
   "name": "python3"
  },
  "language_info": {
   "codemirror_mode": {
    "name": "ipython",
    "version": 3
   },
   "file_extension": ".py",
   "mimetype": "text/x-python",
   "name": "python",
   "nbconvert_exporter": "python",
   "pygments_lexer": "ipython3",
   "version": "3.13.1"
  }
 },
 "nbformat": 4,
 "nbformat_minor": 2
}
